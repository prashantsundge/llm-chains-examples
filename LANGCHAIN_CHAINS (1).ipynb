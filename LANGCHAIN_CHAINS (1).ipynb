{
  "nbformat": 4,
  "nbformat_minor": 0,
  "metadata": {
    "colab": {
      "provenance": []
    },
    "kernelspec": {
      "name": "python3",
      "display_name": "Python 3"
    },
    "language_info": {
      "name": "python"
    }
  },
  "cells": [
    {
      "cell_type": "markdown",
      "source": [
        "# OPENAI API KEY LOAD FROM DRIVE"
      ],
      "metadata": {
        "id": "0E1H339EluqP"
      }
    },
    {
      "cell_type": "markdown",
      "source": [
        "## Required Library Installations"
      ],
      "metadata": {
        "id": "kkBlFuoYsuU1"
      }
    },
    {
      "cell_type": "code",
      "source": [
        "pip install -q dotenv"
      ],
      "metadata": {
        "id": "QxUXljH5lDWi"
      },
      "execution_count": 2,
      "outputs": []
    },
    {
      "cell_type": "code",
      "source": [
        "#install Required libraries\n",
        "!pip install -q langchain"
      ],
      "metadata": {
        "id": "BN94q40Kle05"
      },
      "execution_count": 3,
      "outputs": []
    },
    {
      "cell_type": "code",
      "source": [
        "!pip install -q openai"
      ],
      "metadata": {
        "id": "xIXy2KDImQLS"
      },
      "execution_count": 4,
      "outputs": []
    },
    {
      "cell_type": "code",
      "source": [
        "!pip uninstall -y -q langchain-openai openai langchain\n",
        "!pip install -U -q langchain langchain-openai openai\n"
      ],
      "metadata": {
        "id": "w-PjPEkCoK_l"
      },
      "execution_count": null,
      "outputs": []
    },
    {
      "cell_type": "code",
      "source": [
        "!pip install  -q requests"
      ],
      "metadata": {
        "id": "YK_8r85VttYj"
      },
      "execution_count": 6,
      "outputs": []
    },
    {
      "cell_type": "code",
      "source": [
        "#install\n",
        "!pip install -q grandalf"
      ],
      "metadata": {
        "id": "Tfn6WdTwp3RP"
      },
      "execution_count": null,
      "outputs": []
    },
    {
      "cell_type": "code",
      "source": [
        "!pip install -q langchain_community"
      ],
      "metadata": {
        "id": "ob2PjyiooTl5"
      },
      "execution_count": null,
      "outputs": []
    },
    {
      "cell_type": "code",
      "source": [
        "!pip install -q huggingface_hub"
      ],
      "metadata": {
        "id": "8FZ-Q10ks7W3"
      },
      "execution_count": 9,
      "outputs": []
    },
    {
      "cell_type": "markdown",
      "source": [
        "\n",
        "### 📌 Steps to Fetch `.env` File from Google Drive in Google Colab  \n",
        "\n",
        "- **Mount Google Drive** to access stored files.  \n",
        "- **Set the path** to your `.env` file in Google Drive.  \n",
        "- **Install `python-dotenv`** if not already installed.  \n",
        "- **Load environment variables** using `dotenv`.  \n",
        "- **Retrieve the OpenAI API key** from the `.env` file.  \n",
        "- **Use the API key** in OpenAI API requests.  \n"
      ],
      "metadata": {
        "id": "YyOCz_Bh_jwf"
      }
    },
    {
      "cell_type": "code",
      "execution_count": 11,
      "metadata": {
        "colab": {
          "base_uri": "https://localhost:8080/"
        },
        "id": "WKflCJP4joC7",
        "outputId": "9879c90d-7488-434c-f43c-f05824eb6e3a"
      },
      "outputs": [
        {
          "output_type": "stream",
          "name": "stdout",
          "text": [
            "Drive already mounted at /content/drive; to attempt to forcibly remount, call drive.mount(\"/content/drive\", force_remount=True).\n"
          ]
        }
      ],
      "source": [
        "from google.colab import drive\n",
        "import os\n",
        "drive.mount('/content/drive')"
      ]
    },
    {
      "cell_type": "code",
      "source": [
        "env_path = \"/content/drive/MyDrive/keys/.env\""
      ],
      "metadata": {
        "id": "lmABZlUlk0rX"
      },
      "execution_count": 12,
      "outputs": []
    },
    {
      "cell_type": "code",
      "source": [
        "from dotenv import load_dotenv"
      ],
      "metadata": {
        "id": "7PMbpss4k8aU"
      },
      "execution_count": 13,
      "outputs": []
    },
    {
      "cell_type": "code",
      "source": [
        "load_dotenv(env_path)"
      ],
      "metadata": {
        "colab": {
          "base_uri": "https://localhost:8080/"
        },
        "id": "XR05bGurlAbh",
        "outputId": "7aae47fa-23d9-4378-f9e5-52990887532f"
      },
      "execution_count": 14,
      "outputs": [
        {
          "output_type": "execute_result",
          "data": {
            "text/plain": [
              "True"
            ]
          },
          "metadata": {},
          "execution_count": 14
        }
      ]
    },
    {
      "cell_type": "code",
      "source": [
        "openai_api_key = os.getenv(\"OPENAI_API_KEY\")\n",
        "print(\"API KEY LOADED SUCCESSFULLY \" if openai_api_key else \"KEY NOT LOADED\")"
      ],
      "metadata": {
        "colab": {
          "base_uri": "https://localhost:8080/"
        },
        "id": "Wu1aQD3rlPG2",
        "outputId": "dfcc44be-9969-472b-d748-5790d92d5b68"
      },
      "execution_count": 15,
      "outputs": [
        {
          "output_type": "stream",
          "name": "stdout",
          "text": [
            "API KEY LOADED SUCCESSFULLY \n"
          ]
        }
      ]
    },
    {
      "cell_type": "markdown",
      "source": [
        "# 🔗 LLM Chain & Its Types  \n",
        "\n",
        "### 📌 What is LLM Chain?  \n",
        "LLM Chain is a structured way to **connect prompts, models, and logic** in LangChain to perform tasks in a step-by-step manner. It helps in building **modular and efficient AI workflows**.  \n",
        "\n",
        "---\n",
        "\n",
        "### 🏷️ Types of LLM Chains  \n",
        "\n",
        "1️⃣ **Simple Chain**  \n",
        "   - A basic **input → LLM → output** structure.  \n",
        "   - Example: Sending a prompt to an AI model and getting a response.  \n",
        "\n",
        "2️⃣ **Sequential Chain**  \n",
        "   - The **output of one chain becomes the input** for the next.  \n",
        "   - Example: Generating a blog outline → Expanding it into full sections.  \n",
        "\n",
        "3️⃣ **Parallel Chain**  \n",
        "   - Runs **multiple LLM calls at the same time** and combines the results.  \n",
        "   - Example: Generating summaries for multiple articles simultaneously.  \n",
        "\n",
        "4️⃣ **Conditional Chain**  \n",
        "   - **Chooses a different chain** based on input conditions.  \n",
        "   - Example: If a user asks about pricing, use a \"Pricing Chain\"; if technical support, use a \"Tech Support Chain\".  \n"
      ],
      "metadata": {
        "id": "ksqzrONSl0WD"
      }
    },
    {
      "cell_type": "markdown",
      "source": [
        "## Simple Chain"
      ],
      "metadata": {
        "id": "-fcOde19pix7"
      }
    },
    {
      "cell_type": "code",
      "source": [
        "# import libraries\n",
        "\n",
        "from langchain_core.prompts import PromptTemplate\n",
        "from langchain_core.output_parsers import StrOutputParser"
      ],
      "metadata": {
        "id": "g5BboiZbmdsz"
      },
      "execution_count": null,
      "outputs": []
    },
    {
      "cell_type": "code",
      "source": [
        "from langchain_openai import ChatOpenAI"
      ],
      "metadata": {
        "id": "ujcNPctHmwpD"
      },
      "execution_count": null,
      "outputs": []
    },
    {
      "cell_type": "code",
      "source": [
        "#create prompt template\n",
        "prompt = PromptTemplate(\n",
        "    template = \"Generate 5 interasting facts about {topic}\",\n",
        "    input_variables=['topic']\n",
        ")\n"
      ],
      "metadata": {
        "id": "QgcdtwISnsy_"
      },
      "execution_count": null,
      "outputs": []
    },
    {
      "cell_type": "code",
      "source": [
        "#model\n",
        "model = ChatOpenAI()\n"
      ],
      "metadata": {
        "id": "hKqnV4Pyoh38"
      },
      "execution_count": null,
      "outputs": []
    },
    {
      "cell_type": "code",
      "source": [
        "# create parsers\n",
        "parser = StrOutputParser()\n",
        "\n"
      ],
      "metadata": {
        "id": "7lot5TOLovKB"
      },
      "execution_count": null,
      "outputs": []
    },
    {
      "cell_type": "code",
      "source": [
        "#create chain\n",
        "chain  = prompt | model | parser"
      ],
      "metadata": {
        "id": "qoiPf4jCpD5S"
      },
      "execution_count": null,
      "outputs": []
    },
    {
      "cell_type": "code",
      "source": [
        "response = chain.invoke({'topic':'crikcet'})"
      ],
      "metadata": {
        "id": "PTLNaznTpJI_"
      },
      "execution_count": null,
      "outputs": []
    },
    {
      "cell_type": "code",
      "source": [
        "print(response)"
      ],
      "metadata": {
        "colab": {
          "base_uri": "https://localhost:8080/"
        },
        "id": "v3cf-bY2pPF2",
        "outputId": "841bb219-1638-4de5-8e0a-50f19c057654"
      },
      "execution_count": null,
      "outputs": [
        {
          "output_type": "stream",
          "name": "stdout",
          "text": [
            "1. Cricket is one of the oldest team sports in the world, with origins dating back to the 16th century in England.\n",
            "\n",
            "2. The longest ever cricket match lasted a whopping 14 days, played between England and South Africa in 1939.\n",
            "\n",
            "3. The famous cricket ground, Lord's Cricket Ground in London, is often referred to as the \"Home of Cricket\" and has hosted some of the most iconic matches in the sport's history.\n",
            "\n",
            "4. The highest individual score in a test match is held by Brian Lara of the West Indies, who scored an incredible 400 not out against England in 2004.\n",
            "\n",
            "5. Cricket is the second most popular sport in the world, with billions of fans and players across various countries such as India, Australia, England, and Pakistan.\n"
          ]
        }
      ]
    },
    {
      "cell_type": "markdown",
      "source": [
        "## 🔗 `get_graph()` & `print_ascii()`\n",
        "\n",
        "- **`get_graph()`**: Converts the chain into a **graph representation**.  \n",
        "- **`print_ascii()`**: Displays the graph in a **text-based (ASCII) format**.  \n"
      ],
      "metadata": {
        "id": "RnUm4aBGA4wq"
      }
    },
    {
      "cell_type": "code",
      "source": [
        "#visualize chain by using graph\n",
        "chain.get_graph().print_ascii()"
      ],
      "metadata": {
        "colab": {
          "base_uri": "https://localhost:8080/"
        },
        "id": "B27dhtRApUY0",
        "outputId": "ac10c026-dd16-4afe-d0df-35668d449e61"
      },
      "execution_count": null,
      "outputs": [
        {
          "output_type": "stream",
          "name": "stdout",
          "text": [
            "     +-------------+       \n",
            "     | PromptInput |       \n",
            "     +-------------+       \n",
            "            *              \n",
            "            *              \n",
            "            *              \n",
            "    +----------------+     \n",
            "    | PromptTemplate |     \n",
            "    +----------------+     \n",
            "            *              \n",
            "            *              \n",
            "            *              \n",
            "      +------------+       \n",
            "      | ChatOpenAI |       \n",
            "      +------------+       \n",
            "            *              \n",
            "            *              \n",
            "            *              \n",
            "   +-----------------+     \n",
            "   | StrOutputParser |     \n",
            "   +-----------------+     \n",
            "            *              \n",
            "            *              \n",
            "            *              \n",
            "+-----------------------+  \n",
            "| StrOutputParserOutput |  \n",
            "+-----------------------+  \n"
          ]
        }
      ]
    },
    {
      "cell_type": "markdown",
      "source": [
        "## Sequential Chain\n",
        "\n",
        "**topic > llm > report > llm > Summary**\n",
        "\n",
        "- here we will use topic to feed llm\n",
        "- llm will give detailed report\n",
        "- that report we will send to llm again\n",
        "- llm will give Summary of that report"
      ],
      "metadata": {
        "id": "e_79yt95qSgd"
      }
    },
    {
      "cell_type": "markdown",
      "source": [
        "## 🔗 Sequential Chain Explanation  \n",
        "\n",
        "- **Import Required Modules**: Uses `PromptTemplate`, `ChatOpenAI`, and `StrOutputParser`.  \n",
        "- **Define `Prompt1`**: Generates a **detailed report** based on the given `{topic}`.  \n",
        "- **Define `Prompt2`**: Extracts a **5-point summary** from the generated report using `{text}`.  \n",
        "- **Initialize `ChatOpenAI` Model**: Uses `ChatOpenAI()` to process prompts and generate text.  \n",
        "- **Define `StrOutputParser`**: Converts the model's output into a **string format** for easy processing.  \n",
        "- **Create Chain**:  \n",
        "  - **Step 1**: `Prompt1` generates a detailed report.  \n",
        "  - **Step 2**: The report is passed to `ChatOpenAI` for response generation.  \n",
        "  - **Step 3**: `StrOutputParser` processes the output into a string.  \n",
        "  - **Step 4**: `Prompt2` takes the report and extracts a **5-point summary**.  \n",
        "  - **Step 5**: The summary is generated using `ChatOpenAI` and processed by `StrOutputParser`.  \n",
        "- **Invoke Chain**: Executes the entire sequence with `'Jungle'` as the topic.  \n",
        "- **Print Response**: Displays the final summarized **5-point output**.  \n"
      ],
      "metadata": {
        "id": "O4KGDTRCBf8o"
      }
    },
    {
      "cell_type": "code",
      "source": [
        "from ast import Str\n",
        "#sequential chains\n",
        "# all the library and env has enabled\n",
        "# this is our prompt1 which generates detailed report on given topic\n",
        "Prompt1 = PromptTemplate(\n",
        "    template = 'Generate a detailed report on {topic}',\n",
        "    input_variables=['topic']\n",
        ")\n",
        "\n",
        "Prompt2 = PromptTemplate(\n",
        "    template = 'Generate a 5 pointer summary from the following text \\n {text}',\n",
        "    input_variables=['text']\n",
        ")\n",
        "# model defined\n",
        "model = ChatOpenAI()\n",
        "\n",
        "#parser defined\n",
        "parser = StrOutputParser()\n",
        "\n",
        "# define chain\n",
        "\n",
        "chain  = Prompt1 | model | parser | Prompt2 | model | parser\n",
        "\n",
        "response = chain.invoke({'topic':'Jungle'})\n",
        "\n",
        "print(response)\n"
      ],
      "metadata": {
        "colab": {
          "base_uri": "https://localhost:8080/"
        },
        "id": "QUJNroQtpzaV",
        "outputId": "61c199da-96cd-448f-919b-90b68a05e1d3"
      },
      "execution_count": null,
      "outputs": [
        {
          "output_type": "stream",
          "name": "stdout",
          "text": [
            "1. Jungles are lush, dense forests found in tropical regions close to the equator, known for their rich biodiversity and complex ecosystems.\n",
            "2. High levels of rainfall ranging from 80 to 400 inches per year create a humid environment perfect for supporting a wide range of plant species in jungles.\n",
            "3. Jungles are home to a diverse array of animal species, including monkeys, birds, snakes, insects, and large predators like jaguars and tigers, due to ample food sources and shelter provided by dense vegetation.\n",
            "4. Jungles play a crucial role in regulating Earth's climate by absorbing carbon dioxide, helping mitigate climate change, and regulating the water cycle to prevent soil erosion.\n",
            "5. Despite their ecological significance, jungles are facing threats from human activities such as deforestation, mining, and agriculture, highlighting the importance of conservation efforts to protect and preserve these vital ecosystems.\n"
          ]
        }
      ]
    },
    {
      "cell_type": "code",
      "source": [
        "#visualize chain by using graph\n",
        "chain.get_graph().print_ascii()"
      ],
      "metadata": {
        "colab": {
          "base_uri": "https://localhost:8080/"
        },
        "id": "YXtVUUt7tcoS",
        "outputId": "05f67cc3-f79a-4c84-a4db-0cf51870c2c0"
      },
      "execution_count": null,
      "outputs": [
        {
          "output_type": "stream",
          "name": "stdout",
          "text": [
            "     +-------------+       \n",
            "     | PromptInput |       \n",
            "     +-------------+       \n",
            "            *              \n",
            "            *              \n",
            "            *              \n",
            "    +----------------+     \n",
            "    | PromptTemplate |     \n",
            "    +----------------+     \n",
            "            *              \n",
            "            *              \n",
            "            *              \n",
            "      +------------+       \n",
            "      | ChatOpenAI |       \n",
            "      +------------+       \n",
            "            *              \n",
            "            *              \n",
            "            *              \n",
            "   +-----------------+     \n",
            "   | StrOutputParser |     \n",
            "   +-----------------+     \n",
            "            *              \n",
            "            *              \n",
            "            *              \n",
            "+-----------------------+  \n",
            "| StrOutputParserOutput |  \n",
            "+-----------------------+  \n",
            "            *              \n",
            "            *              \n",
            "            *              \n",
            "    +----------------+     \n",
            "    | PromptTemplate |     \n",
            "    +----------------+     \n",
            "            *              \n",
            "            *              \n",
            "            *              \n",
            "      +------------+       \n",
            "      | ChatOpenAI |       \n",
            "      +------------+       \n",
            "            *              \n",
            "            *              \n",
            "            *              \n",
            "   +-----------------+     \n",
            "   | StrOutputParser |     \n",
            "   +-----------------+     \n",
            "            *              \n",
            "            *              \n",
            "            *              \n",
            "+-----------------------+  \n",
            "| StrOutputParserOutput |  \n",
            "+-----------------------+  \n"
          ]
        }
      ]
    },
    {
      "cell_type": "markdown",
      "source": [
        "# Parallel Chain\n",
        "\n",
        "\n",
        "## Definition\n",
        "In **LangChain**, a **Parallel Chain** refers to the ability to execute multiple chains concurrently to improve efficiency and reduce latency. Instead of running chains sequentially, parallel execution enables independent tasks to be processed simultaneously, leveraging asynchronous programming.\n",
        "\n",
        "## Explanation\n",
        "LangChain provides tools to execute multiple chains in parallel, which is useful when dealing with independent queries or multiple tasks that do not depend on each other's output.\n",
        "\n",
        "### **Key Benefits of Parallel Chains**\n",
        "1. **Faster Execution:** Since tasks run concurrently, total execution time is reduced.\n",
        "2. **Optimized Resource Usage:** Utilizes available computational resources more efficiently.\n",
        "3. **Better User Experience:** Enhances response time for applications using multiple independent LLM calls.\n"
      ],
      "metadata": {
        "id": "8FVXTCaDgwp4"
      }
    },
    {
      "cell_type": "markdown",
      "source": [
        "- we are using llama model"
      ],
      "metadata": {
        "id": "ZnY1TpyQlmHd"
      }
    },
    {
      "cell_type": "code",
      "source": [
        "env_path"
      ],
      "metadata": {
        "colab": {
          "base_uri": "https://localhost:8080/",
          "height": 35
        },
        "id": "seYSFzTLlrKO",
        "outputId": "07d27ec8-764d-4396-ab98-d1d57d2eee01"
      },
      "execution_count": null,
      "outputs": [
        {
          "output_type": "execute_result",
          "data": {
            "text/plain": [
              "'/content/drive/MyDrive/keys/.env'"
            ],
            "application/vnd.google.colaboratory.intrinsic+json": {
              "type": "string"
            }
          },
          "metadata": {},
          "execution_count": 30
        }
      ]
    },
    {
      "cell_type": "code",
      "source": [
        "load_dotenv(env_path)\n",
        "\n",
        "api_key = os.environ.get(\"LLAMA_API_KEY\")\n",
        "print(\"LLAMA API CONFIGURE SUCCESSFULLY \" if api_key else \"NOT LOADING LLAMA \")"
      ],
      "metadata": {
        "colab": {
          "base_uri": "https://localhost:8080/"
        },
        "id": "mcAL2ejGl1mu",
        "outputId": "7bf90413-1f19-42cf-a68d-9cebf20bdf25"
      },
      "execution_count": null,
      "outputs": [
        {
          "output_type": "stream",
          "name": "stdout",
          "text": [
            "LLAMA API CONFIGURE SUCCESSFULLY \n"
          ]
        }
      ]
    },
    {
      "cell_type": "markdown",
      "source": [
        "We will use all the libraries again for parallel chains"
      ],
      "metadata": {
        "id": "tF89lZkAmhOJ"
      }
    },
    {
      "cell_type": "code",
      "source": [
        "#sample Hugging face model before applying to parallel chain example\n",
        "import os\n",
        "from langchain_community.llms import HuggingFaceHub\n",
        "from dotenv import load_dotenv\n",
        "load_dotenv(env_path)\n",
        "hf_token = os.getenv(\"HUGGINGFACEHUB_API_TOKEN\")\n",
        "print(\"HF KEY SUCCESS\" if hf_token else \"HF KEY FAILED\")\n",
        "\n",
        "llm  = HuggingFaceHub(\n",
        "    repo_id = \"meta-llama/Llama-3.1-8B\",\n",
        "    model_kwargs = {\"temperature\": 0.7},\n",
        "\n",
        ")\n",
        "\n",
        "response = llm.invoke(\"what is quantum computer in simple way ?\")\n",
        "print(response)"
      ],
      "metadata": {
        "colab": {
          "base_uri": "https://localhost:8080/"
        },
        "id": "7UNAD9vtrR2N",
        "outputId": "29d6d444-71ee-41ed-cece-7f05cc4fd7c2"
      },
      "execution_count": null,
      "outputs": [
        {
          "output_type": "stream",
          "name": "stdout",
          "text": [
            "HF KEY SUCCESS\n",
            "what is quantum computer in simple way ??\n",
            "\n",
            "Quntum computing is like using many paths at the same time to get to the destination faster. Classical computers use bits that are either 0 or 1. Quantum computers use quantum bits, or qubits, which can be 0, 1, or both at the same time. This is because of a property called superposition in quantum physics. Quantum computers also use another property called entanglement, which allows qubits to be connected in such a way that the state of one can instantly affect the state of the other, no matter the distance between them. This allows quantum computers to perform many calculations simultaneously and can solve certain problems much faster than classical computers.\n"
          ]
        },
        {
          "output_type": "stream",
          "name": "stderr",
          "text": [
            "/usr/local/lib/python3.11/dist-packages/huggingface_hub/utils/_deprecation.py:131: FutureWarning: 'post' (from 'huggingface_hub.inference._client') is deprecated and will be removed from version '0.31.0'. Making direct POST requests to the inference server is not supported anymore. Please use task methods instead (e.g. `InferenceClient.chat_completion`). If your use case is not supported, please open an issue in https://github.com/huggingface/huggingface_hub.\n",
            "  warnings.warn(warning_message, FutureWarning)\n"
          ]
        }
      ]
    },
    {
      "cell_type": "code",
      "source": [
        "from langchain_openai import ChatOpenAI\n",
        "from langchain_core.prompts import PromptTemplate\n",
        "from langchain_core.output_parsers import StrOutputParser\n",
        "from langchain.schema.runnable import RunnableParallel\n",
        "from langchain_community.llms import HuggingFaceHub\n",
        "from dotenv import load_dotenv\n",
        "\n",
        "load_dotenv()\n",
        "\n",
        "# Define models\n",
        "model1 = ChatOpenAI()\n",
        "model2 = HuggingFaceHub(\n",
        "    repo_id=\"meta-llama/Llama-3.1-8B\",\n",
        "    model_kwargs={\"temperature\": 0.7},\n",
        ")\n",
        "\n",
        "# Define prompts\n",
        "prompt1 = PromptTemplate(\n",
        "    template=\"Generate Short and Simple notes from the following text \\n {text}\",\n",
        "    input_variables=[\"text\"],\n",
        ")\n",
        "\n",
        "prompt2 = PromptTemplate(\n",
        "    template=\"Generate 5 short question answers from the following text \\n {text}\",\n",
        "    input_variables=[\"text\"],\n",
        ")\n",
        "\n",
        "prompt3 = PromptTemplate(\n",
        "    template=\"Merge the provided notes and Quiz into a single document \\n Notes: {notes} \\n Quiz: {Quiz}\",\n",
        "    input_variables=[\"notes\", \"Quiz\"],\n",
        ")\n",
        "\n",
        "parset = StrOutputParser()\n",
        "\n",
        "# Create separate chains\n",
        "parallel_chain = RunnableParallel(\n",
        "    {\n",
        "        \"notes\": prompt1 | model1 | parset,\n",
        "        \"Quiz\": prompt2 | model2 | parset,\n",
        "    }\n",
        ")\n",
        "\n",
        "merge_chain = prompt3 | model1 | parset\n",
        "\n",
        "# First, run parallel_chain to generate notes and quiz\n",
        "intermediate_result = parallel_chain.invoke({\"text\": text})\n",
        "\n",
        "# Then, pass the results to merge_chain\n",
        "final_result = merge_chain.invoke(intermediate_result)\n",
        "\n",
        "print(final_result)\n"
      ],
      "metadata": {
        "colab": {
          "base_uri": "https://localhost:8080/"
        },
        "id": "7rXLjes3ueTO",
        "outputId": "833b86e6-cabf-4a18-d18f-3dae22b2345e"
      },
      "execution_count": null,
      "outputs": [
        {
          "output_type": "stream",
          "name": "stderr",
          "text": [
            "/usr/local/lib/python3.11/dist-packages/huggingface_hub/utils/_deprecation.py:131: FutureWarning: 'post' (from 'huggingface_hub.inference._client') is deprecated and will be removed from version '0.31.0'. Making direct POST requests to the inference server is not supported anymore. Please use task methods instead (e.g. `InferenceClient.chat_completion`). If your use case is not supported, please open an issue in https://github.com/huggingface/huggingface_hub.\n",
            "  warnings.warn(warning_message, FutureWarning)\n"
          ]
        },
        {
          "output_type": "stream",
          "name": "stdout",
          "text": [
            "Support vector machines (SVMs) are supervised learning methods used for classification, regression, and outliers detection. \n",
            "\n",
            "Advantages of SVMs include their effectiveness in high dimensional spaces, ability to work well when there are more dimensions than samples, memory efficiency, and versatility with different kernel functions. \n",
            "\n",
            "Disadvantages of SVMs include the risk of overfitting when the number of features is much greater than samples and the fact that they do not directly provide probability estimates. \n",
            "\n",
            "1. **Q:** What are the advantages of Support Vector Machines (SVMs)?\n",
            "   **A:** SVMs are effective in high dimensional spaces, memory efficient, versatile in specifying kernel functions, and still effective when the number of dimensions is greater than the number of samples.\n",
            "\n",
            "2. **Q:** What makes SVMs memory efficient?\n",
            "   **A:** SVMs use only a subset of training points in the decision function, called support vectors.\n",
            "\n",
            "3. **Q:** Can we specify custom kernel functions in SVMs?\n",
            "   **A:** Yes, SVMs allow specifying custom kernel functions apart from the common ones provided.\n",
            "\n",
            "4. **Q:** What is a key challenge when using SVMs with a large number of features?\n",
            "   **A:** Avoiding overfitting is crucial by carefully choosing kernel functions and regularization terms.\n",
            "\n",
            "5. **Q:** Why are SVMs not very efficient with large datasets?\n",
            "   **A:** SVMs are not very efficient if the data set has more than 10,000 samples.\n"
          ]
        }
      ]
    },
    {
      "cell_type": "code",
      "source": [
        "chain.get_graph().print_ascii()"
      ],
      "metadata": {
        "colab": {
          "base_uri": "https://localhost:8080/"
        },
        "id": "1TeRBQZ-1miG",
        "outputId": "e5e6ef29-0123-499e-8c17-bba98c514ee5"
      },
      "execution_count": null,
      "outputs": [
        {
          "output_type": "stream",
          "name": "stdout",
          "text": [
            "            +---------------------------+            \n",
            "            | Parallel<notes,quiz>Input |            \n",
            "            +---------------------------+            \n",
            "                 **               **                 \n",
            "              ***                   ***              \n",
            "            **                         **            \n",
            "+----------------+                +----------------+ \n",
            "| PromptTemplate |                | PromptTemplate | \n",
            "+----------------+                +----------------+ \n",
            "          *                               *          \n",
            "          *                               *          \n",
            "          *                               *          \n",
            "  +------------+                  +----------------+ \n",
            "  | ChatOpenAI |                  | HuggingFaceHub | \n",
            "  +------------+                  +----------------+ \n",
            "          *                               *          \n",
            "          *                               *          \n",
            "          *                               *          \n",
            "+-----------------+              +-----------------+ \n",
            "| StrOutputParser |              | StrOutputParser | \n",
            "+-----------------+              +-----------------+ \n",
            "                 **               **                 \n",
            "                   ***         ***                   \n",
            "                      **     **                      \n",
            "           +----------------------------+            \n",
            "           | Parallel<notes,quiz>Output |            \n",
            "           +----------------------------+            \n",
            "                          *                          \n",
            "                          *                          \n",
            "                          *                          \n",
            "                 +----------------+                  \n",
            "                 | PromptTemplate |                  \n",
            "                 +----------------+                  \n",
            "                          *                          \n",
            "                          *                          \n",
            "                          *                          \n",
            "                   +------------+                    \n",
            "                   | ChatOpenAI |                    \n",
            "                   +------------+                    \n",
            "                          *                          \n",
            "                          *                          \n",
            "                          *                          \n",
            "                +-----------------+                  \n",
            "                | StrOutputParser |                  \n",
            "                +-----------------+                  \n",
            "                          *                          \n",
            "                          *                          \n",
            "                          *                          \n",
            "              +-----------------------+              \n",
            "              | StrOutputParserOutput |              \n",
            "              +-----------------------+              \n"
          ]
        }
      ]
    },
    {
      "cell_type": "markdown",
      "source": [
        "#Conditional Chain\n",
        "\n",
        "A **Conditional Chain** in LangChain allows you to control the flow of execution based on conditions. This means you can dynamically decide which chain to execute depending on the input.\n",
        "\n",
        "**Key Features of Conditional Chains**\n",
        "- Dynamically select chains based on input.\n",
        "- Use a default chain if no condition matches.\n",
        "- Can be used for routing different types of queries."
      ],
      "metadata": {
        "id": "qLpmEWOJn3jc"
      }
    },
    {
      "cell_type": "markdown",
      "source": [
        "![image.png](data:image/png;base64,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)"
      ],
      "metadata": {
        "id": "cMeAP6euz1JT"
      }
    },
    {
      "cell_type": "markdown",
      "source": [
        "![image.png](data:image/png;base64,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)"
      ],
      "metadata": {
        "id": "pnNHwlM00O7f"
      }
    },
    {
      "cell_type": "code",
      "source": [
        "from langchain_openai import ChatOpenAI\n",
        "from langchain_core.prompts import PromptTemplate\n",
        "from langchain_core.output_parsers import StrOutputParser\n",
        "from langchain.schema.runnable import RunnableParallel, RunnableBranch, RunnableLambda\n",
        "from langchain_core.output_parsers import PydanticOutputParser\n",
        "from pydantic import BaseModel, Field\n",
        "from typing import Literal\n",
        "\n",
        "load_dotenv()\n",
        "\n",
        "model = ChatOpenAI()\n",
        "\n",
        "parser = StrOutputParser()\n",
        "\n",
        "\n",
        "class Feedback(BaseModel):\n",
        "  sentiment: Literal['positive', 'negative'] = Field(description ='Give the sentiment of the feedback')\n",
        "\n",
        "\n",
        "parser2 = PydanticOutputParser(pydantic_object=Feedback)\n",
        "\n",
        "\n",
        "prompt1 = PromptTemplate(\n",
        "    template = 'Classifiy the sentiment of the following Feedback text into positive or negative \\n{feedback} \\n {format_instruction}',\n",
        "    input_variables = ['feedback'],\n",
        "    partial_variables={'format_instruction':parser2.get_format_instructions()}\n",
        ")\n",
        "\n",
        "\n",
        "classifier_chain = prompt1 | model | parser2\n",
        "#this is negative but there is no gaurantee it will come negative/positive all the time if it gives \"the sentiment is negative \" then it will be a problem for us\n",
        "#\n",
        "# we need to structure the output to do that we use PydanticOutputParser\n",
        "\n",
        "prompt2 = PromptTemplate(\n",
        "    template = 'write an appropriate response to this positive feedback \\n {feedback} ',\n",
        "    input_variables=['feedback']\n",
        ")\n",
        "\n",
        "prompt3 = PromptTemplate(\n",
        "    template = 'write an appropriate response to this negative feedback \\n {feedback} ',\n",
        "    input_variables=['feedback']\n",
        ")\n",
        "\n",
        "#branch chain\n",
        "\n",
        "branch_chain = RunnableBranch(\n",
        "    (lambda x:x.sentiment == 'positive', prompt2 | model | parser ),\n",
        "    (lambda x:x.sentiment == 'negative', prompt3 | model | parser ),\n",
        "    #defualt condition we need Runnable lambda\n",
        "    RunnableLambda(lambda x:'could not find sentiment')\n",
        ")\n",
        "\n",
        "chain_cond = classifier_chain | branch_chain\n",
        "print(chain_cond.invoke({'feedback': 'this is beutiful phone'}))\n",
        "\n",
        "chain_cond.get_graph().print_ascii()\n",
        " # Convert to a better graph representation"
      ],
      "metadata": {
        "id": "LZ_-DN7J2ESl",
        "colab": {
          "base_uri": "https://localhost:8080/"
        },
        "outputId": "428552e6-d02c-4eb5-9b97-a2d90be83e62"
      },
      "execution_count": 46,
      "outputs": [
        {
          "output_type": "stream",
          "name": "stdout",
          "text": [
            "Thank you so much for your kind words! I'm glad to hear that you had a positive experience. Your feedback means a lot to me. If you have any more comments or suggestions, please feel free to share.\n",
            "    +-------------+      \n",
            "    | PromptInput |      \n",
            "    +-------------+      \n",
            "            *            \n",
            "            *            \n",
            "            *            \n",
            "   +----------------+    \n",
            "   | PromptTemplate |    \n",
            "   +----------------+    \n",
            "            *            \n",
            "            *            \n",
            "            *            \n",
            "     +------------+      \n",
            "     | ChatOpenAI |      \n",
            "     +------------+      \n",
            "            *            \n",
            "            *            \n",
            "            *            \n",
            "+----------------------+ \n",
            "| PydanticOutputParser | \n",
            "+----------------------+ \n",
            "            *            \n",
            "            *            \n",
            "            *            \n",
            "       +--------+        \n",
            "       | Branch |        \n",
            "       +--------+        \n",
            "            *            \n",
            "            *            \n",
            "            *            \n",
            "    +--------------+     \n",
            "    | BranchOutput |     \n",
            "    +--------------+     \n"
          ]
        }
      ]
    },
    {
      "cell_type": "markdown",
      "source": [
        "# Example 2 : Conditional Chain"
      ],
      "metadata": {
        "id": "knNBrsuv3tvt"
      }
    },
    {
      "cell_type": "code",
      "source": [
        "\n",
        "from langchain.schema.runnable import RunnableLambda\n",
        "from langchain.chains.llm import LLMChain\n",
        "from langchain.chat_models import ChatOpenAI\n",
        "from langchain.prompts import PromptTemplate\n",
        "\n",
        "llm = ChatOpenAI()\n",
        "\n",
        "# define prompts\n",
        "positve_prompt = PromptTemplate.from_template(\"Give a motivational quote about {topic}.\")\n",
        "negative_prompt = PromptTemplate.from_template(\"Describe a historical failure related to {topic}.\")\n",
        "\n",
        "# define chains\n",
        "positive_chain = LLMChain(llm =llm , prompt = positve_prompt)\n",
        "negative_chain = LLMChain(llm =llm , prompt = negative_prompt)\n",
        "\n",
        "\n",
        "# conditional function\n",
        "def positivity_check(input_dict):\n",
        "  return \"Success\" in input_dict['topic'].lower()\n",
        "\n",
        "# conditional Runnbale\n",
        "conditional_chain = RunnableLambda(lambda x:positive_chain if positivity_check(x) else negative_chain)\n",
        "\n",
        "# run the chain\n",
        "output = conditional_chain.invoke({'topic':\"fail\"})\n",
        "\n",
        "\n",
        "print(output)\n",
        "\n"
      ],
      "metadata": {
        "colab": {
          "base_uri": "https://localhost:8080/"
        },
        "id": "ul21d5GIsjKr",
        "outputId": "12cafb72-84ff-45d4-d0f5-bbb5934292db"
      },
      "execution_count": 48,
      "outputs": [
        {
          "output_type": "stream",
          "name": "stdout",
          "text": [
            "{'topic': 'fail', 'text': 'One historical failure related to faith is the Crusades. The Crusades were a series of religious wars sanctioned by the Latin Church in the medieval period. The goal of the Crusades was to recapture the Holy Land from Muslim rule. However, over the course of several centuries, the Crusades resulted in a series of military failures, with many lives lost on both sides.\\n\\nThe Crusades were marked by religious intolerance, brutality, and greed. The Crusaders often committed atrocities against innocent civilians, including massacres and pillaging. Additionally, the Crusades failed to achieve their ultimate goal of permanently retaking the Holy Land. Despite numerous attempts, the Crusaders were ultimately driven out of the region and failed to establish lasting Christian control.\\n\\nThe legacy of the Crusades is one of bloodshed, division, and religious strife. The failure of the Crusades serves as a cautionary tale about the dangers of religious extremism and the consequences of using faith as a justification for violence.'}\n"
          ]
        }
      ]
    },
    {
      "cell_type": "markdown",
      "source": [
        "--- THE END ---"
      ],
      "metadata": {
        "id": "yCreO7ALBpl5"
      }
    },
    {
      "cell_type": "code",
      "source": [],
      "metadata": {
        "id": "HZlay0xWBr3A"
      },
      "execution_count": null,
      "outputs": []
    }
  ]
}